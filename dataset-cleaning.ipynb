{
 "cells": [
  {
   "cell_type": "markdown",
   "id": "ae7d8aff",
   "metadata": {},
   "source": [
    "data cleaning part, put all `hex_puzzle_xxx.txt` files in the directory `input_dir` and run the code."
   ]
  },
  {
   "cell_type": "code",
   "execution_count": 20,
   "id": "78774773",
   "metadata": {},
   "outputs": [
    {
     "name": "stdout",
     "output_type": "stream",
     "text": [
      "Processed 5 boards and saved to problem_100.txt.\n",
      "Processed 5 boards and saved to problem_120.txt.\n",
      "Processed 5 boards and saved to problem_140.txt.\n",
      "Processed 5 boards and saved to problem_200.txt.\n",
      "Processed 5 boards and saved to problem_220.txt.\n"
     ]
    }
   ],
   "source": [
    "import os\n",
    "import re\n",
    "\n",
    "# Path to input files directory (update if needed)\n",
    "input_dir = \"./\"\n",
    "\n",
    "# Regex patterns\n",
    "sudoku_board_start = re.compile(r\"Sudoku Board:\")\n",
    "sudoku_answer_start = re.compile(r\"Sudoku Answer:\")\n",
    "\n",
    "# Function to extract Sudoku boards\n",
    "def extract_boards(file_path):\n",
    "    boards = []\n",
    "    with open(file_path, \"r\", encoding=\"utf-8\") as file:\n",
    "        lines = file.readlines()\n",
    "\n",
    "    board_lines = []\n",
    "    collecting = False\n",
    "\n",
    "    for line in lines:\n",
    "        line = line.strip()\n",
    "        \n",
    "        if sudoku_board_start.match(line):  \n",
    "            collecting = True\n",
    "            board_lines = []\n",
    "            continue\n",
    "        if sudoku_answer_start.match(line):  \n",
    "            collecting = False\n",
    "            if board_lines:\n",
    "                boards.append(\"\".join(board_lines))  # Join collected lines into one string\n",
    "            board_lines = []\n",
    "            continue\n",
    "        if collecting and line and not set(line.strip().replace(\" \", \"\")) == {\"-\"}:  # Ignore separators\n",
    "#             print(line.strip())\n",
    "            clean_line = line.replace(\" | \", \"\").replace(\" \", \"\")  # Remove spaces and pipes\n",
    "            board_lines.append(clean_line)\n",
    "\n",
    "    return boards\n",
    "\n",
    "# Process all files and extract boards\n",
    "all_boards = []\n",
    "for file_name in sorted(os.listdir(input_dir)):\n",
    "    if file_name.startswith(\"hex_puzzle_\") and file_name.endswith(\".txt\"):\n",
    "        file_path = os.path.join(input_dir, file_name)\n",
    "        all_boards.extend(extract_boards(file_path))\n",
    "\n",
    "        # Write to problem_i.txt\n",
    "        output_file = f'problem_{file_name[11:-4]}.txt'\n",
    "        with open(output_file, \"w\", encoding=\"utf-8\") as f:\n",
    "            for board in all_boards:\n",
    "                f.write(board + \"\\n\")\n",
    "\n",
    "        print(f\"Processed {len(all_boards)} boards and saved to {output_file}.\")\n",
    "        all_boards = []"
   ]
  },
  {
   "cell_type": "code",
   "execution_count": null,
   "id": "95a83f2a",
   "metadata": {},
   "outputs": [],
   "source": []
  }
 ],
 "metadata": {
  "kernelspec": {
   "display_name": "Python 3 (ipykernel)",
   "language": "python",
   "name": "python3"
  },
  "language_info": {
   "codemirror_mode": {
    "name": "ipython",
    "version": 3
   },
   "file_extension": ".py",
   "mimetype": "text/x-python",
   "name": "python",
   "nbconvert_exporter": "python",
   "pygments_lexer": "ipython3",
   "version": "3.8.3"
  }
 },
 "nbformat": 4,
 "nbformat_minor": 5
}
